{
  "nbformat": 4,
  "nbformat_minor": 0,
  "metadata": {
    "colab": {
      "provenance": []
    },
    "kernelspec": {
      "name": "python3",
      "display_name": "Python 3"
    },
    "language_info": {
      "name": "python"
    }
  },
  "cells": [
    {
      "cell_type": "markdown",
      "source": [
        "Q1"
      ],
      "metadata": {
        "id": "zLgq-XsgT9t1"
      }
    },
    {
      "cell_type": "code",
      "source": [
        "# 答えは３"
      ],
      "metadata": {
        "id": "n1Cqq9PwT9Pf"
      },
      "execution_count": null,
      "outputs": []
    },
    {
      "cell_type": "markdown",
      "source": [
        "Q2"
      ],
      "metadata": {
        "id": "p5g9Se1IT6pB"
      }
    },
    {
      "cell_type": "code",
      "source": [
        "# 答えは２"
      ],
      "metadata": {
        "id": "yxiJCJOMT5cH"
      },
      "execution_count": null,
      "outputs": []
    },
    {
      "cell_type": "markdown",
      "source": [
        "Q3"
      ],
      "metadata": {
        "id": "FW4NWeIjTxXN"
      }
    },
    {
      "cell_type": "code",
      "source": [
        "def greeting(names):\n",
        "  result=[]\n",
        "  for a in names:\n",
        "   if len(a) % 2 == 0:\n",
        "     result.append(\"Good morning\")\n",
        "   else:\n",
        "     result.append(\"Good night\")\n",
        "  return result"
      ],
      "metadata": {
        "id": "R6i_LoB5TxJ7"
      },
      "execution_count": null,
      "outputs": []
    },
    {
      "cell_type": "code",
      "source": [
        "names = [\"Myung\", \"Petrucci\", \"LaBrie\", \"Rudess\"]\n",
        "greeting(names)"
      ],
      "metadata": {
        "colab": {
          "base_uri": "https://localhost:8080/"
        },
        "id": "Gu-ZGax-TxCu",
        "outputId": "35dfbef0-6bd9-40bd-9b11-39bae5238eea"
      },
      "execution_count": null,
      "outputs": [
        {
          "output_type": "execute_result",
          "data": {
            "text/plain": [
              "['Good night', 'Good morning', 'Good morning', 'Good morning']"
            ]
          },
          "metadata": {},
          "execution_count": 4
        }
      ]
    },
    {
      "cell_type": "markdown",
      "source": [
        "Q4"
      ],
      "metadata": {
        "id": "QlfFpd5UTi_X"
      }
    },
    {
      "cell_type": "code",
      "source": [
        "def get_even_number(numbers):\n",
        " result = []\n",
        " for a in numbers:\n",
        "   if a % 2 == 0:\n",
        "     result.append(a)\n",
        " return result"
      ],
      "metadata": {
        "id": "1B3rqm8iTfx4"
      },
      "execution_count": null,
      "outputs": []
    },
    {
      "cell_type": "code",
      "source": [
        "numbers = [1,2,3,4,5,6,7,8,9,10]\n",
        "get_even_number(numbers=numbers)"
      ],
      "metadata": {
        "colab": {
          "base_uri": "https://localhost:8080/"
        },
        "id": "Gz_FutQyTfhz",
        "outputId": "806d2856-25ff-4b89-90d3-7e4a870a34ef"
      },
      "execution_count": null,
      "outputs": [
        {
          "output_type": "execute_result",
          "data": {
            "text/plain": [
              "[2, 4, 6, 8, 10]"
            ]
          },
          "metadata": {},
          "execution_count": 7
        }
      ]
    },
    {
      "cell_type": "markdown",
      "source": [
        "Q5"
      ],
      "metadata": {
        "id": "5PcsHMxPTExp"
      }
    },
    {
      "cell_type": "code",
      "source": [
        "rects = [\n",
        "[2.1, 4.1],\n",
        "[0.5, 1.1],\n",
        "[2.5, 3.2],\n",
        "]"
      ],
      "metadata": {
        "id": "qJwMQfmiK2uB"
      },
      "execution_count": 1,
      "outputs": []
    },
    {
      "cell_type": "code",
      "execution_count": 2,
      "metadata": {
        "id": "XKm-IWA3I9v_"
      },
      "outputs": [],
      "source": [
        "def get_largest_rect(rects):\n",
        "  max_area = 0\n",
        "  max_count = 0\n",
        "  count = -1\n",
        "  for a,b in rects:\n",
        "   area = a * b\n",
        "   count += 1\n",
        "   if area > max_area:\n",
        "     max_area = area\n",
        "     max_count = count\n",
        "  return(max_count)"
      ]
    },
    {
      "cell_type": "code",
      "source": [
        "get_largest_rect(rects)"
      ],
      "metadata": {
        "colab": {
          "base_uri": "https://localhost:8080/"
        },
        "id": "cKbeg7XdLdsV",
        "outputId": "1c854ffd-0dda-4321-9540-adb71678e25a"
      },
      "execution_count": null,
      "outputs": [
        {
          "output_type": "execute_result",
          "data": {
            "text/plain": [
              "1"
            ]
          },
          "metadata": {},
          "execution_count": 54
        }
      ]
    },
    {
      "cell_type": "markdown",
      "source": [
        "Q6"
      ],
      "metadata": {
        "id": "Gn1Gt-5sWQaq"
      }
    },
    {
      "cell_type": "code",
      "source": [
        "def coin_toss(N, x):\n",
        "\n",
        " fac1 = 1\n",
        " for a in range(N, 0, -1):\n",
        "     fac1 = fac1 * a\n",
        " \n",
        " fac2 = 1\n",
        " for b in range(N-x, 0, -1):\n",
        "     fac2 = fac2 * b\n",
        "\n",
        " fac3 = 1\n",
        " for c in range(x, 0, -1):\n",
        "     fac3 = fac3 * c\n",
        " \n",
        " P = fac1 / (fac2*fac3) * (0.1**x) * (0.9**(N-x))\n",
        "\n",
        " return round(P, 4)\n"
      ],
      "metadata": {
        "id": "cCmxr6DhWXoC"
      },
      "execution_count": 25,
      "outputs": []
    },
    {
      "cell_type": "code",
      "source": [
        "coin_toss(N=10, x=1)"
      ],
      "metadata": {
        "colab": {
          "base_uri": "https://localhost:8080/"
        },
        "id": "YpNG5L-RWdQs",
        "outputId": "cd86162e-e0de-4dd8-d0ec-0d6c13e2cb3e"
      },
      "execution_count": 26,
      "outputs": [
        {
          "output_type": "execute_result",
          "data": {
            "text/plain": [
              "0.3874"
            ]
          },
          "metadata": {},
          "execution_count": 26
        }
      ]
    },
    {
      "cell_type": "markdown",
      "source": [
        "Q7"
      ],
      "metadata": {
        "id": "tS2HLfVBWrfP"
      }
    },
    {
      "cell_type": "code",
      "source": [
        "num_list = [5,4,3,2,1]"
      ],
      "metadata": {
        "id": "dV6rtWDIWtXN"
      },
      "execution_count": 37,
      "outputs": []
    },
    {
      "cell_type": "code",
      "source": [
        "def bubble_sort(num_list):\n",
        "\n",
        " n = len(num_list)\n",
        " for a in range(n):\n",
        "    for b in range(0, n - a - 1):\n",
        "        if num_list[b] > num_list[b + 1]:\n",
        "            num_list[b], num_list[b + 1] = num_list[b + 1], num_list[b]\n",
        "\n",
        " return num_list\n"
      ],
      "metadata": {
        "id": "i6NYLnv8Wvu6"
      },
      "execution_count": 43,
      "outputs": []
    },
    {
      "cell_type": "code",
      "source": [
        "bubble_sort(num_list)"
      ],
      "metadata": {
        "colab": {
          "base_uri": "https://localhost:8080/"
        },
        "id": "ESMXNPBbWyf6",
        "outputId": "898f39b5-be07-46a5-ffa8-7058adf4a662"
      },
      "execution_count": 45,
      "outputs": [
        {
          "output_type": "execute_result",
          "data": {
            "text/plain": [
              "[1, 2, 3, 4, 5]"
            ]
          },
          "metadata": {},
          "execution_count": 45
        }
      ]
    }
  ]
}